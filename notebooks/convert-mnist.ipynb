{
 "cells": [
  {
   "cell_type": "code",
   "execution_count": null,
   "id": "8237366a-84dc-421a-90aa-c9707a3485ff",
   "metadata": {},
   "outputs": [],
   "source": [
    "import os\n",
    "import pandas as pd\n",
    "\n",
    "import matplotlib.pyplot as plt"
   ]
  },
  {
   "cell_type": "code",
   "execution_count": null,
   "id": "9d62f897-7824-4e34-848d-557171577e92",
   "metadata": {},
   "outputs": [],
   "source": [
    "train = pd.read_csv('../data/mnist_train.csv')\n",
    "test = pd.read_csv('../data/mnist_test.csv')"
   ]
  },
  {
   "cell_type": "code",
   "execution_count": null,
   "id": "102dcd11-b06f-45f6-8a57-452c27ff93b4",
   "metadata": {},
   "outputs": [],
   "source": [
    "train.head(10)"
   ]
  },
  {
   "cell_type": "code",
   "execution_count": null,
   "id": "d9983684-2cb2-4019-bf7a-074c51e266b5",
   "metadata": {},
   "outputs": [],
   "source": [
    "train.drop(columns=['label']).to_csv('../data/mnist_train_data.csv')\n",
    "train['label'].to_csv('../data/mnist_train_labels.csv')"
   ]
  },
  {
   "cell_type": "code",
   "execution_count": null,
   "id": "6e04c987-ecf6-49d3-a439-be765932c23a",
   "metadata": {},
   "outputs": [],
   "source": [
    "test.drop(columns=['label']).to_csv('../data/mnist_test_data.csv')\n",
    "test['label'].to_csv('../data/mnist_test_labels.csv')"
   ]
  }
 ],
 "metadata": {
  "kernelspec": {
   "display_name": "Python 3 (ipykernel)",
   "language": "python",
   "name": "python3"
  },
  "language_info": {
   "codemirror_mode": {
    "name": "ipython",
    "version": 3
   },
   "file_extension": ".py",
   "mimetype": "text/x-python",
   "name": "python",
   "nbconvert_exporter": "python",
   "pygments_lexer": "ipython3",
   "version": "3.10.6"
  }
 },
 "nbformat": 4,
 "nbformat_minor": 5
}

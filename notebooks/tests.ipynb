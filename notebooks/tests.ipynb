{
 "cells": [
  {
   "cell_type": "code",
   "execution_count": null,
   "id": "19a07c1a-f8df-48a6-9912-0907541b4506",
   "metadata": {},
   "outputs": [],
   "source": [
    "import numpy as np"
   ]
  },
  {
   "cell_type": "code",
   "execution_count": null,
   "id": "7646a844-a555-4326-bb33-ac947ac7ba43",
   "metadata": {},
   "outputs": [],
   "source": [
    "def test_bit_magic(input_size):\n",
    "    n_size = (input_size-1).bit_length()\n",
    "    n_filter = 1<<n_size\n",
    "    n_hidden = [input_size] + [n_filter>>(i+1) for i in range(n_size-6)]\n",
    "    \n",
    "    print(f'Tests for {input_size}:')\n",
    "    print(f'{n_size = }')\n",
    "    print(f'{n_filter = }')\n",
    "    print(f'{n_hidden = }')"
   ]
  },
  {
   "cell_type": "code",
   "execution_count": null,
   "id": "13f30792-e366-41a9-9c03-9163facbfb5f",
   "metadata": {},
   "outputs": [],
   "source": [
    "input_size = 2048\n",
    "levels = 12\n",
    "latent_dim = 128"
   ]
  },
  {
   "cell_type": "code",
   "execution_count": null,
   "id": "111576f1-f83d-4524-9f68-1f3d53959c63",
   "metadata": {},
   "outputs": [],
   "source": [
    "np.linspace(start=input_size, stop=latent_dim, num=levels, dtype=int)"
   ]
  },
  {
   "cell_type": "code",
   "execution_count": null,
   "id": "e07a33ec-c542-4102-b9ed-74b370a620aa",
   "metadata": {},
   "outputs": [],
   "source": [
    "n_size = (input_size-1).bit_length()\n",
    "n_filter = 1<<n_size\n",
    "n_hidden = [input_size] + [n_filter>>(i+1) for i in range(n_size-6)]"
   ]
  },
  {
   "cell_type": "code",
   "execution_count": null,
   "id": "021f44a9-40bf-4e02-9b67-d90b8d3c433b",
   "metadata": {},
   "outputs": [],
   "source": [
    "n_size"
   ]
  },
  {
   "cell_type": "code",
   "execution_count": null,
   "id": "b9437869-9750-4bcd-bfce-f4a88ae20a49",
   "metadata": {},
   "outputs": [],
   "source": [
    "n_filter>>1"
   ]
  },
  {
   "cell_type": "code",
   "execution_count": null,
   "id": "b9e01b44-f1c0-42bc-a9d0-8d263096a7a9",
   "metadata": {},
   "outputs": [],
   "source": [
    "test_bit_magic(input_size=input_size-1)\n",
    "test_bit_magic(input_size=input_size)\n",
    "test_bit_magic(input_size=input_size+1)"
   ]
  },
  {
   "cell_type": "code",
   "execution_count": null,
   "id": "629c1d47-8217-4dbd-bd42-28e3e875ab72",
   "metadata": {},
   "outputs": [],
   "source": []
  }
 ],
 "metadata": {
  "kernelspec": {
   "display_name": "Python 3 (ipykernel)",
   "language": "python",
   "name": "python3"
  },
  "language_info": {
   "codemirror_mode": {
    "name": "ipython",
    "version": 3
   },
   "file_extension": ".py",
   "mimetype": "text/x-python",
   "name": "python",
   "nbconvert_exporter": "python",
   "pygments_lexer": "ipython3",
   "version": "3.11.0"
  }
 },
 "nbformat": 4,
 "nbformat_minor": 5
}
